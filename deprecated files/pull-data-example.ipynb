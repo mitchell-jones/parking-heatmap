{
 "cells": [
  {
   "cell_type": "code",
   "execution_count": 1,
   "id": "466479ac",
   "metadata": {},
   "outputs": [
    {
     "name": "stdout",
     "output_type": "stream",
     "text": [
      "startup\n"
     ]
    }
   ],
   "source": [
    "print('startup')\n",
    "import json\n",
    "import pandas as pd\n",
    "from datetime import datetime, timedelta\n",
    "from sseclient import SSEClient"
   ]
  },
  {
   "cell_type": "code",
   "execution_count": null,
   "id": "7c367741",
   "metadata": {},
   "outputs": [],
   "source": []
  },
  {
   "cell_type": "code",
   "execution_count": 2,
   "id": "28e72266",
   "metadata": {},
   "outputs": [],
   "source": [
    "url = 'https://parkingavailability.charlotte.edu/decks/stream'"
   ]
  },
  {
   "cell_type": "code",
   "execution_count": 3,
   "id": "1077d8b1",
   "metadata": {},
   "outputs": [],
   "source": [
    "client = SSEClient(url)"
   ]
  },
  {
   "cell_type": "code",
   "execution_count": 4,
   "id": "71dab6a3",
   "metadata": {},
   "outputs": [],
   "source": [
    "for i in client:\n",
    "    data = i\n",
    "    break"
   ]
  },
  {
   "cell_type": "code",
   "execution_count": 5,
   "id": "adbaa1e9",
   "metadata": {},
   "outputs": [],
   "source": [
    "now = datetime.now()\n",
    "dt_string = now.strftime(\"%d/%m/%Y %H:%M:%S\")"
   ]
  },
  {
   "cell_type": "code",
   "execution_count": 6,
   "id": "15ce2af3",
   "metadata": {},
   "outputs": [],
   "source": [
    "json_data = json.loads(data.data)"
   ]
  },
  {
   "cell_type": "code",
   "execution_count": 7,
   "id": "659049df",
   "metadata": {},
   "outputs": [],
   "source": [
    "output = pd.DataFrame(json_data)"
   ]
  },
  {
   "cell_type": "code",
   "execution_count": 8,
   "id": "dbee9b56",
   "metadata": {},
   "outputs": [],
   "source": [
    "output['time'] = dt_string"
   ]
  },
  {
   "cell_type": "markdown",
   "id": "8f3c7187",
   "metadata": {},
   "source": [
    "#### Output Data to Postgres on Heroku"
   ]
  },
  {
   "cell_type": "code",
   "execution_count": 9,
   "id": "32f0ad99",
   "metadata": {},
   "outputs": [],
   "source": [
    "import os"
   ]
  },
  {
   "cell_type": "code",
   "execution_count": 11,
   "id": "ea97b304",
   "metadata": {
    "scrolled": true
   },
   "outputs": [
    {
     "name": "stdout",
     "output_type": "stream",
     "text": [
      "DB-URL not retrieved from environment correctly.\n"
     ]
    }
   ],
   "source": [
    "try:\n",
    "    db_url = os.environ['DATABASE_URL_1']\n",
    "except:\n",
    "    print('DB-URL not retrieved from environment correctly.')"
   ]
  },
  {
   "cell_type": "code",
   "execution_count": 12,
   "id": "37fc9020",
   "metadata": {},
   "outputs": [],
   "source": [
    "try:\n",
    "    #import the relevant sql library \n",
    "    from sqlalchemy import create_engine\n",
    "    # link to your database\n",
    "    engine = create_engine(db_url, echo = False)\n",
    "    # attach the data frame (df) to the database with a name of the \n",
    "    # table; the name can be whatever you like\n",
    "    output.to_sql('parkingdata', con = engine, if_exists='append')\n",
    "except:\n",
    "    print(\"output to db unsuccessful.\")"
   ]
  },
  {
   "cell_type": "code",
   "execution_count": 2,
   "id": "b0cc4e77",
   "metadata": {},
   "outputs": [],
   "source": [
    "from datetime import datetime, timedelta\n",
    "\n",
    "d = datetime.today() - timedelta(days=0, hours=0, minutes=15)"
   ]
  },
  {
   "cell_type": "code",
   "execution_count": 19,
   "id": "2a6bcc6a",
   "metadata": {},
   "outputs": [
    {
     "name": "stdout",
     "output_type": "stream",
     "text": [
      "2022-09-02 12:54:45.774931\n",
      "2022-09-02 12:55:45.774931\n"
     ]
    },
    {
     "ename": "KeyboardInterrupt",
     "evalue": "",
     "output_type": "error",
     "traceback": [
      "\u001b[1;31m---------------------------------------------------------------------------\u001b[0m",
      "\u001b[1;31mKeyboardInterrupt\u001b[0m                         Traceback (most recent call last)",
      "Input \u001b[1;32mIn [19]\u001b[0m, in \u001b[0;36m<cell line: 6>\u001b[1;34m()\u001b[0m\n\u001b[0;32m      4\u001b[0m \u001b[38;5;28mprint\u001b[39m(next_interval)\n\u001b[0;32m      5\u001b[0m \u001b[38;5;28;01mwhile\u001b[39;00m \u001b[38;5;28;01mTrue\u001b[39;00m:\n\u001b[1;32m----> 6\u001b[0m     cur_time \u001b[38;5;241m=\u001b[39m datetime\u001b[38;5;241m.\u001b[39mtoday()\n\u001b[0;32m      7\u001b[0m     \u001b[38;5;28;01mif\u001b[39;00m cur_time \u001b[38;5;241m==\u001b[39m next_interval:\n\u001b[0;32m      8\u001b[0m         \u001b[38;5;28mprint\u001b[39m(\u001b[38;5;124m'\u001b[39m\u001b[38;5;124mhi!\u001b[39m\u001b[38;5;124m'\u001b[39m)\n",
      "\u001b[1;31mKeyboardInterrupt\u001b[0m: "
     ]
    }
   ],
   "source": [
    "cur_time = datetime.today()\n",
    "next_interval = cur_time + timedelta(days=0, hours=0, minutes=1)\n",
    "print(cur_time)\n",
    "print(next_interval)\n",
    "while True:\n",
    "    cur_time = datetime.today()\n",
    "    if cur_time == next_interval:\n",
    "        print('hi!')\n",
    "        next_interval = cur_time + timedelta(days=0, hours=0, minutes=1)"
   ]
  },
  {
   "cell_type": "code",
   "execution_count": 4,
   "id": "ab713a0e",
   "metadata": {},
   "outputs": [],
   "source": [
    "from time import sleep"
   ]
  },
  {
   "cell_type": "code",
   "execution_count": null,
   "id": "0d550a2e",
   "metadata": {},
   "outputs": [
    {
     "name": "stdout",
     "output_type": "stream",
     "text": [
      "do stuff!\n"
     ]
    }
   ],
   "source": [
    "while True:\n",
    "    if datetime.today().minute % 15 == 0:\n",
    "        print('do stuff!')\n",
    "    sleep(60)"
   ]
  },
  {
   "cell_type": "code",
   "execution_count": null,
   "id": "570c3e6b",
   "metadata": {},
   "outputs": [],
   "source": []
  }
 ],
 "metadata": {
  "kernelspec": {
   "display_name": "Python 3 (ipykernel)",
   "language": "python",
   "name": "python3"
  },
  "language_info": {
   "codemirror_mode": {
    "name": "ipython",
    "version": 3
   },
   "file_extension": ".py",
   "mimetype": "text/x-python",
   "name": "python",
   "nbconvert_exporter": "python",
   "pygments_lexer": "ipython3",
   "version": "3.9.7"
  }
 },
 "nbformat": 4,
 "nbformat_minor": 5
}
