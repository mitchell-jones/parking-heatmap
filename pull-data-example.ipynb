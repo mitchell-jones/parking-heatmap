{
 "cells": [
  {
   "cell_type": "code",
   "execution_count": 1,
   "id": "466479ac",
   "metadata": {},
   "outputs": [],
   "source": [
    "import json\n",
    "import pandas as pd\n",
    "from datetime import datetime\n",
    "from sseclient import SSEClient"
   ]
  },
  {
   "cell_type": "code",
   "execution_count": 2,
   "id": "28e72266",
   "metadata": {},
   "outputs": [],
   "source": [
    "url = 'https://parkingavailability.charlotte.edu/decks/stream'"
   ]
  },
  {
   "cell_type": "code",
   "execution_count": 3,
   "id": "1077d8b1",
   "metadata": {},
   "outputs": [],
   "source": [
    "client = SSEClient(url)"
   ]
  },
  {
   "cell_type": "code",
   "execution_count": 4,
   "id": "71dab6a3",
   "metadata": {},
   "outputs": [],
   "source": [
    "for i in client:\n",
    "    data = i\n",
    "    break"
   ]
  },
  {
   "cell_type": "code",
   "execution_count": 5,
   "id": "adbaa1e9",
   "metadata": {},
   "outputs": [],
   "source": [
    "now = datetime.now()\n",
    "dt_string = now.strftime(\"%d/%m/%Y %H:%M:%S\")"
   ]
  },
  {
   "cell_type": "code",
   "execution_count": 6,
   "id": "15ce2af3",
   "metadata": {},
   "outputs": [],
   "source": [
    "json_data = json.loads(data.data)"
   ]
  },
  {
   "cell_type": "code",
   "execution_count": 7,
   "id": "659049df",
   "metadata": {},
   "outputs": [],
   "source": [
    "output = pd.DataFrame(json_data)"
   ]
  },
  {
   "cell_type": "code",
   "execution_count": 8,
   "id": "dbee9b56",
   "metadata": {},
   "outputs": [],
   "source": [
    "output['time'] = dt_string"
   ]
  },
  {
   "cell_type": "code",
   "execution_count": 9,
   "id": "a50fe6ca",
   "metadata": {},
   "outputs": [
    {
     "data": {
      "text/html": [
       "<div>\n",
       "<style scoped>\n",
       "    .dataframe tbody tr th:only-of-type {\n",
       "        vertical-align: middle;\n",
       "    }\n",
       "\n",
       "    .dataframe tbody tr th {\n",
       "        vertical-align: top;\n",
       "    }\n",
       "\n",
       "    .dataframe thead th {\n",
       "        text-align: right;\n",
       "    }\n",
       "</style>\n",
       "<table border=\"1\" class=\"dataframe\">\n",
       "  <thead>\n",
       "    <tr style=\"text-align: right;\">\n",
       "      <th></th>\n",
       "      <th>lotCode</th>\n",
       "      <th>name</th>\n",
       "      <th>style</th>\n",
       "      <th>mapLink</th>\n",
       "      <th>percentAvailable</th>\n",
       "      <th>time</th>\n",
       "    </tr>\n",
       "  </thead>\n",
       "  <tbody>\n",
       "    <tr>\n",
       "      <th>0</th>\n",
       "      <td>CD FS</td>\n",
       "      <td>Cone Deck Faculty/Staff</td>\n",
       "      <td>None</td>\n",
       "      <td>https://maps.charlotte.edu/#/?nav=pLdbs&amp;ctr=35...</td>\n",
       "      <td>0.84</td>\n",
       "      <td>02/09/2022 11:27:40</td>\n",
       "    </tr>\n",
       "    <tr>\n",
       "      <th>1</th>\n",
       "      <td>CD VS</td>\n",
       "      <td>Cone Deck Visitor</td>\n",
       "      <td>None</td>\n",
       "      <td>https://maps.charlotte.edu/#/?nav=pLdbs&amp;ctr=35...</td>\n",
       "      <td>0.92</td>\n",
       "      <td>02/09/2022 11:27:40</td>\n",
       "    </tr>\n",
       "    <tr>\n",
       "      <th>2</th>\n",
       "      <td>CRI</td>\n",
       "      <td>CRI Deck</td>\n",
       "      <td>None</td>\n",
       "      <td>https://maps.charlotte.edu/#/?nav=pLdbs&amp;ctr=35...</td>\n",
       "      <td>0.61</td>\n",
       "      <td>02/09/2022 11:27:40</td>\n",
       "    </tr>\n",
       "    <tr>\n",
       "      <th>3</th>\n",
       "      <td>ED1</td>\n",
       "      <td>East Deck 1</td>\n",
       "      <td>None</td>\n",
       "      <td>https://maps.charlotte.edu/#/?nav=pLdbs&amp;ctr=35...</td>\n",
       "      <td>0.71</td>\n",
       "      <td>02/09/2022 11:27:40</td>\n",
       "    </tr>\n",
       "    <tr>\n",
       "      <th>4</th>\n",
       "      <td>ED2/3</td>\n",
       "      <td>East Deck 2/3</td>\n",
       "      <td>None</td>\n",
       "      <td>None</td>\n",
       "      <td>0.39</td>\n",
       "      <td>02/09/2022 11:27:40</td>\n",
       "    </tr>\n",
       "    <tr>\n",
       "      <th>5</th>\n",
       "      <td>NORTH</td>\n",
       "      <td>North Deck</td>\n",
       "      <td>None</td>\n",
       "      <td>https://maps.charlotte.edu/#/?nav=pLdbs&amp;ctr=35...</td>\n",
       "      <td>0.23</td>\n",
       "      <td>02/09/2022 11:27:40</td>\n",
       "    </tr>\n",
       "    <tr>\n",
       "      <th>6</th>\n",
       "      <td>SOUTH</td>\n",
       "      <td>South Village Deck</td>\n",
       "      <td>None</td>\n",
       "      <td>https://maps.charlotte.edu/#/?nav=pLdbs&amp;ctr=35...</td>\n",
       "      <td>0.33</td>\n",
       "      <td>02/09/2022 11:27:40</td>\n",
       "    </tr>\n",
       "    <tr>\n",
       "      <th>7</th>\n",
       "      <td>UDL</td>\n",
       "      <td>Union Deck Lower</td>\n",
       "      <td>None</td>\n",
       "      <td>None</td>\n",
       "      <td>0.28</td>\n",
       "      <td>02/09/2022 11:27:40</td>\n",
       "    </tr>\n",
       "    <tr>\n",
       "      <th>8</th>\n",
       "      <td>UDU</td>\n",
       "      <td>Union Deck Upper</td>\n",
       "      <td>None</td>\n",
       "      <td>https://maps.charlotte.edu/#/?nav=pLdbs&amp;ctr=35...</td>\n",
       "      <td>0.76</td>\n",
       "      <td>02/09/2022 11:27:40</td>\n",
       "    </tr>\n",
       "    <tr>\n",
       "      <th>9</th>\n",
       "      <td>WEST</td>\n",
       "      <td>West Deck</td>\n",
       "      <td>None</td>\n",
       "      <td>https://maps.charlotte.edu/#/?nav=pLdbs&amp;ctr=35...</td>\n",
       "      <td>0.40</td>\n",
       "      <td>02/09/2022 11:27:40</td>\n",
       "    </tr>\n",
       "  </tbody>\n",
       "</table>\n",
       "</div>"
      ],
      "text/plain": [
       "  lotCode                     name style  \\\n",
       "0   CD FS  Cone Deck Faculty/Staff  None   \n",
       "1   CD VS        Cone Deck Visitor  None   \n",
       "2     CRI                 CRI Deck  None   \n",
       "3     ED1              East Deck 1  None   \n",
       "4   ED2/3            East Deck 2/3  None   \n",
       "5   NORTH               North Deck  None   \n",
       "6   SOUTH       South Village Deck  None   \n",
       "7     UDL         Union Deck Lower  None   \n",
       "8     UDU         Union Deck Upper  None   \n",
       "9    WEST                West Deck  None   \n",
       "\n",
       "                                             mapLink  percentAvailable  \\\n",
       "0  https://maps.charlotte.edu/#/?nav=pLdbs&ctr=35...              0.84   \n",
       "1  https://maps.charlotte.edu/#/?nav=pLdbs&ctr=35...              0.92   \n",
       "2  https://maps.charlotte.edu/#/?nav=pLdbs&ctr=35...              0.61   \n",
       "3  https://maps.charlotte.edu/#/?nav=pLdbs&ctr=35...              0.71   \n",
       "4                                               None              0.39   \n",
       "5  https://maps.charlotte.edu/#/?nav=pLdbs&ctr=35...              0.23   \n",
       "6  https://maps.charlotte.edu/#/?nav=pLdbs&ctr=35...              0.33   \n",
       "7                                               None              0.28   \n",
       "8  https://maps.charlotte.edu/#/?nav=pLdbs&ctr=35...              0.76   \n",
       "9  https://maps.charlotte.edu/#/?nav=pLdbs&ctr=35...              0.40   \n",
       "\n",
       "                  time  \n",
       "0  02/09/2022 11:27:40  \n",
       "1  02/09/2022 11:27:40  \n",
       "2  02/09/2022 11:27:40  \n",
       "3  02/09/2022 11:27:40  \n",
       "4  02/09/2022 11:27:40  \n",
       "5  02/09/2022 11:27:40  \n",
       "6  02/09/2022 11:27:40  \n",
       "7  02/09/2022 11:27:40  \n",
       "8  02/09/2022 11:27:40  \n",
       "9  02/09/2022 11:27:40  "
      ]
     },
     "metadata": {},
     "output_type": "display_data"
    }
   ],
   "source": [
    "display(output)"
   ]
  },
  {
   "cell_type": "markdown",
   "id": "2d28a7e9",
   "metadata": {},
   "source": [
    "#### Output Data to Postgres on Heroku"
   ]
  },
  {
   "cell_type": "code",
   "execution_count": 1,
   "id": "d654ebf0",
   "metadata": {},
   "outputs": [],
   "source": [
    "import os"
   ]
  },
  {
   "cell_type": "code",
   "execution_count": 2,
   "id": "d3289f83",
   "metadata": {
    "scrolled": true
   },
   "outputs": [
    {
     "ename": "KeyError",
     "evalue": "'DATABASE_URL'",
     "output_type": "error",
     "traceback": [
      "\u001b[1;31m---------------------------------------------------------------------------\u001b[0m",
      "\u001b[1;31mKeyError\u001b[0m                                  Traceback (most recent call last)",
      "Input \u001b[1;32mIn [2]\u001b[0m, in \u001b[0;36m<cell line: 1>\u001b[1;34m()\u001b[0m\n\u001b[1;32m----> 1\u001b[0m db_url \u001b[38;5;241m=\u001b[39m \u001b[43mos\u001b[49m\u001b[38;5;241;43m.\u001b[39;49m\u001b[43menviron\u001b[49m\u001b[43m[\u001b[49m\u001b[38;5;124;43m'\u001b[39;49m\u001b[38;5;124;43mDATABASE_URL\u001b[39;49m\u001b[38;5;124;43m'\u001b[39;49m\u001b[43m]\u001b[49m\n",
      "File \u001b[1;32m~\\anaconda3\\lib\\os.py:679\u001b[0m, in \u001b[0;36m_Environ.__getitem__\u001b[1;34m(self, key)\u001b[0m\n\u001b[0;32m    676\u001b[0m     value \u001b[38;5;241m=\u001b[39m \u001b[38;5;28mself\u001b[39m\u001b[38;5;241m.\u001b[39m_data[\u001b[38;5;28mself\u001b[39m\u001b[38;5;241m.\u001b[39mencodekey(key)]\n\u001b[0;32m    677\u001b[0m \u001b[38;5;28;01mexcept\u001b[39;00m \u001b[38;5;167;01mKeyError\u001b[39;00m:\n\u001b[0;32m    678\u001b[0m     \u001b[38;5;66;03m# raise KeyError with the original key value\u001b[39;00m\n\u001b[1;32m--> 679\u001b[0m     \u001b[38;5;28;01mraise\u001b[39;00m \u001b[38;5;167;01mKeyError\u001b[39;00m(key) \u001b[38;5;28;01mfrom\u001b[39;00m \u001b[38;5;28mNone\u001b[39m\n\u001b[0;32m    680\u001b[0m \u001b[38;5;28;01mreturn\u001b[39;00m \u001b[38;5;28mself\u001b[39m\u001b[38;5;241m.\u001b[39mdecodevalue(value)\n",
      "\u001b[1;31mKeyError\u001b[0m: 'DATABASE_URL'"
     ]
    }
   ],
   "source": [
    "db_url = os.environ['DATABASE_URL']"
   ]
  },
  {
   "cell_type": "code",
   "execution_count": 3,
   "id": "9456b171",
   "metadata": {},
   "outputs": [
    {
     "ename": "NameError",
     "evalue": "name 'db_url' is not defined",
     "output_type": "error",
     "traceback": [
      "\u001b[1;31m---------------------------------------------------------------------------\u001b[0m",
      "\u001b[1;31mNameError\u001b[0m                                 Traceback (most recent call last)",
      "Input \u001b[1;32mIn [3]\u001b[0m, in \u001b[0;36m<cell line: 4>\u001b[1;34m()\u001b[0m\n\u001b[0;32m      2\u001b[0m \u001b[38;5;28;01mfrom\u001b[39;00m \u001b[38;5;21;01msqlalchemy\u001b[39;00m \u001b[38;5;28;01mimport\u001b[39;00m create_engine\n\u001b[0;32m      3\u001b[0m \u001b[38;5;66;03m# link to your database\u001b[39;00m\n\u001b[1;32m----> 4\u001b[0m engine \u001b[38;5;241m=\u001b[39m create_engine(\u001b[43mdb_url\u001b[49m, echo \u001b[38;5;241m=\u001b[39m \u001b[38;5;28;01mFalse\u001b[39;00m)\n\u001b[0;32m      5\u001b[0m \u001b[38;5;66;03m# attach the data frame (df) to the database with a name of the \u001b[39;00m\n\u001b[0;32m      6\u001b[0m \u001b[38;5;66;03m# table; the name can be whatever you like\u001b[39;00m\n\u001b[0;32m      7\u001b[0m output\u001b[38;5;241m.\u001b[39mto_sql(\u001b[38;5;124m'\u001b[39m\u001b[38;5;124mparkingdata\u001b[39m\u001b[38;5;124m'\u001b[39m, con \u001b[38;5;241m=\u001b[39m engine, if_exists\u001b[38;5;241m=\u001b[39m\u001b[38;5;124m'\u001b[39m\u001b[38;5;124mappend\u001b[39m\u001b[38;5;124m'\u001b[39m)\n",
      "\u001b[1;31mNameError\u001b[0m: name 'db_url' is not defined"
     ]
    }
   ],
   "source": [
    "#import the relevant sql library \n",
    "from sqlalchemy import create_engine\n",
    "# link to your database\n",
    "engine = create_engine(db_url, echo = False)\n",
    "# attach the data frame (df) to the database with a name of the \n",
    "# table; the name can be whatever you like\n",
    "output.to_sql('parkingdata', con = engine, if_exists='append')"
   ]
  }
 ],
 "metadata": {
  "kernelspec": {
   "display_name": "Python 3 (ipykernel)",
   "language": "python",
   "name": "python3"
  },
  "language_info": {
   "codemirror_mode": {
    "name": "ipython",
    "version": 3
   },
   "file_extension": ".py",
   "mimetype": "text/x-python",
   "name": "python",
   "nbconvert_exporter": "python",
   "pygments_lexer": "ipython3",
   "version": "3.9.7"
  }
 },
 "nbformat": 4,
 "nbformat_minor": 5
}
