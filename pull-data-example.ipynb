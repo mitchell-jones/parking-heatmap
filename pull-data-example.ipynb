{
 "cells": [
  {
   "cell_type": "code",
   "execution_count": 1,
   "id": "466479ac",
   "metadata": {},
   "outputs": [],
   "source": [
    "import json\n",
    "import pandas as pd\n",
    "from datetime import datetime\n",
    "from sseclient import SSEClient"
   ]
  },
  {
   "cell_type": "code",
   "execution_count": 2,
   "id": "28e72266",
   "metadata": {},
   "outputs": [],
   "source": [
    "url = 'https://parkingavailability.charlotte.edu/decks/stream'"
   ]
  },
  {
   "cell_type": "code",
   "execution_count": 3,
   "id": "1077d8b1",
   "metadata": {},
   "outputs": [],
   "source": [
    "client = SSEClient(url)"
   ]
  },
  {
   "cell_type": "code",
   "execution_count": 4,
   "id": "71dab6a3",
   "metadata": {},
   "outputs": [],
   "source": [
    "for i in client:\n",
    "    data = i\n",
    "    break"
   ]
  },
  {
   "cell_type": "code",
   "execution_count": 5,
   "id": "adbaa1e9",
   "metadata": {},
   "outputs": [],
   "source": [
    "now = datetime.now()\n",
    "dt_string = now.strftime(\"%d/%m/%Y %H:%M:%S\")"
   ]
  },
  {
   "cell_type": "code",
   "execution_count": 6,
   "id": "15ce2af3",
   "metadata": {},
   "outputs": [],
   "source": [
    "json_data = json.loads(data.data)"
   ]
  },
  {
   "cell_type": "code",
   "execution_count": 7,
   "id": "659049df",
   "metadata": {},
   "outputs": [],
   "source": [
    "output = pd.DataFrame(json_data)"
   ]
  },
  {
   "cell_type": "code",
   "execution_count": 8,
   "id": "dbee9b56",
   "metadata": {},
   "outputs": [],
   "source": [
    "output['time'] = dt_string"
   ]
  },
  {
   "cell_type": "code",
   "execution_count": 9,
   "id": "a50fe6ca",
   "metadata": {},
   "outputs": [
    {
     "data": {
      "text/html": [
       "<div>\n",
       "<style scoped>\n",
       "    .dataframe tbody tr th:only-of-type {\n",
       "        vertical-align: middle;\n",
       "    }\n",
       "\n",
       "    .dataframe tbody tr th {\n",
       "        vertical-align: top;\n",
       "    }\n",
       "\n",
       "    .dataframe thead th {\n",
       "        text-align: right;\n",
       "    }\n",
       "</style>\n",
       "<table border=\"1\" class=\"dataframe\">\n",
       "  <thead>\n",
       "    <tr style=\"text-align: right;\">\n",
       "      <th></th>\n",
       "      <th>lotCode</th>\n",
       "      <th>name</th>\n",
       "      <th>style</th>\n",
       "      <th>mapLink</th>\n",
       "      <th>percentAvailable</th>\n",
       "      <th>time</th>\n",
       "    </tr>\n",
       "  </thead>\n",
       "  <tbody>\n",
       "    <tr>\n",
       "      <th>0</th>\n",
       "      <td>CD FS</td>\n",
       "      <td>Cone Deck Faculty/Staff</td>\n",
       "      <td>None</td>\n",
       "      <td>https://maps.charlotte.edu/#/?nav=pLdbs&amp;ctr=35...</td>\n",
       "      <td>0.84</td>\n",
       "      <td>02/09/2022 11:27:40</td>\n",
       "    </tr>\n",
       "    <tr>\n",
       "      <th>1</th>\n",
       "      <td>CD VS</td>\n",
       "      <td>Cone Deck Visitor</td>\n",
       "      <td>None</td>\n",
       "      <td>https://maps.charlotte.edu/#/?nav=pLdbs&amp;ctr=35...</td>\n",
       "      <td>0.92</td>\n",
       "      <td>02/09/2022 11:27:40</td>\n",
       "    </tr>\n",
       "    <tr>\n",
       "      <th>2</th>\n",
       "      <td>CRI</td>\n",
       "      <td>CRI Deck</td>\n",
       "      <td>None</td>\n",
       "      <td>https://maps.charlotte.edu/#/?nav=pLdbs&amp;ctr=35...</td>\n",
       "      <td>0.61</td>\n",
       "      <td>02/09/2022 11:27:40</td>\n",
       "    </tr>\n",
       "    <tr>\n",
       "      <th>3</th>\n",
       "      <td>ED1</td>\n",
       "      <td>East Deck 1</td>\n",
       "      <td>None</td>\n",
       "      <td>https://maps.charlotte.edu/#/?nav=pLdbs&amp;ctr=35...</td>\n",
       "      <td>0.71</td>\n",
       "      <td>02/09/2022 11:27:40</td>\n",
       "    </tr>\n",
       "    <tr>\n",
       "      <th>4</th>\n",
       "      <td>ED2/3</td>\n",
       "      <td>East Deck 2/3</td>\n",
       "      <td>None</td>\n",
       "      <td>None</td>\n",
       "      <td>0.39</td>\n",
       "      <td>02/09/2022 11:27:40</td>\n",
       "    </tr>\n",
       "    <tr>\n",
       "      <th>5</th>\n",
       "      <td>NORTH</td>\n",
       "      <td>North Deck</td>\n",
       "      <td>None</td>\n",
       "      <td>https://maps.charlotte.edu/#/?nav=pLdbs&amp;ctr=35...</td>\n",
       "      <td>0.23</td>\n",
       "      <td>02/09/2022 11:27:40</td>\n",
       "    </tr>\n",
       "    <tr>\n",
       "      <th>6</th>\n",
       "      <td>SOUTH</td>\n",
       "      <td>South Village Deck</td>\n",
       "      <td>None</td>\n",
       "      <td>https://maps.charlotte.edu/#/?nav=pLdbs&amp;ctr=35...</td>\n",
       "      <td>0.33</td>\n",
       "      <td>02/09/2022 11:27:40</td>\n",
       "    </tr>\n",
       "    <tr>\n",
       "      <th>7</th>\n",
       "      <td>UDL</td>\n",
       "      <td>Union Deck Lower</td>\n",
       "      <td>None</td>\n",
       "      <td>None</td>\n",
       "      <td>0.28</td>\n",
       "      <td>02/09/2022 11:27:40</td>\n",
       "    </tr>\n",
       "    <tr>\n",
       "      <th>8</th>\n",
       "      <td>UDU</td>\n",
       "      <td>Union Deck Upper</td>\n",
       "      <td>None</td>\n",
       "      <td>https://maps.charlotte.edu/#/?nav=pLdbs&amp;ctr=35...</td>\n",
       "      <td>0.76</td>\n",
       "      <td>02/09/2022 11:27:40</td>\n",
       "    </tr>\n",
       "    <tr>\n",
       "      <th>9</th>\n",
       "      <td>WEST</td>\n",
       "      <td>West Deck</td>\n",
       "      <td>None</td>\n",
       "      <td>https://maps.charlotte.edu/#/?nav=pLdbs&amp;ctr=35...</td>\n",
       "      <td>0.40</td>\n",
       "      <td>02/09/2022 11:27:40</td>\n",
       "    </tr>\n",
       "  </tbody>\n",
       "</table>\n",
       "</div>"
      ],
      "text/plain": [
       "  lotCode                     name style  \\\n",
       "0   CD FS  Cone Deck Faculty/Staff  None   \n",
       "1   CD VS        Cone Deck Visitor  None   \n",
       "2     CRI                 CRI Deck  None   \n",
       "3     ED1              East Deck 1  None   \n",
       "4   ED2/3            East Deck 2/3  None   \n",
       "5   NORTH               North Deck  None   \n",
       "6   SOUTH       South Village Deck  None   \n",
       "7     UDL         Union Deck Lower  None   \n",
       "8     UDU         Union Deck Upper  None   \n",
       "9    WEST                West Deck  None   \n",
       "\n",
       "                                             mapLink  percentAvailable  \\\n",
       "0  https://maps.charlotte.edu/#/?nav=pLdbs&ctr=35...              0.84   \n",
       "1  https://maps.charlotte.edu/#/?nav=pLdbs&ctr=35...              0.92   \n",
       "2  https://maps.charlotte.edu/#/?nav=pLdbs&ctr=35...              0.61   \n",
       "3  https://maps.charlotte.edu/#/?nav=pLdbs&ctr=35...              0.71   \n",
       "4                                               None              0.39   \n",
       "5  https://maps.charlotte.edu/#/?nav=pLdbs&ctr=35...              0.23   \n",
       "6  https://maps.charlotte.edu/#/?nav=pLdbs&ctr=35...              0.33   \n",
       "7                                               None              0.28   \n",
       "8  https://maps.charlotte.edu/#/?nav=pLdbs&ctr=35...              0.76   \n",
       "9  https://maps.charlotte.edu/#/?nav=pLdbs&ctr=35...              0.40   \n",
       "\n",
       "                  time  \n",
       "0  02/09/2022 11:27:40  \n",
       "1  02/09/2022 11:27:40  \n",
       "2  02/09/2022 11:27:40  \n",
       "3  02/09/2022 11:27:40  \n",
       "4  02/09/2022 11:27:40  \n",
       "5  02/09/2022 11:27:40  \n",
       "6  02/09/2022 11:27:40  \n",
       "7  02/09/2022 11:27:40  \n",
       "8  02/09/2022 11:27:40  \n",
       "9  02/09/2022 11:27:40  "
      ]
     },
     "metadata": {},
     "output_type": "display_data"
    }
   ],
   "source": [
    "display(output)"
   ]
  }
 ],
 "metadata": {
  "kernelspec": {
   "display_name": "Python 3 (ipykernel)",
   "language": "python",
   "name": "python3"
  },
  "language_info": {
   "codemirror_mode": {
    "name": "ipython",
    "version": 3
   },
   "file_extension": ".py",
   "mimetype": "text/x-python",
   "name": "python",
   "nbconvert_exporter": "python",
   "pygments_lexer": "ipython3",
   "version": "3.9.7"
  }
 },
 "nbformat": 4,
 "nbformat_minor": 5
}
