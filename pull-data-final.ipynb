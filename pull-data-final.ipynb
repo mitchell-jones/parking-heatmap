{
 "cells": [
  {
   "cell_type": "code",
   "execution_count": null,
   "id": "ec00afae",
   "metadata": {},
   "outputs": [
    {
     "name": "stdout",
     "output_type": "stream",
     "text": [
      "Starting up.\n",
      "Running job!\n",
      "DB-URL not retrieved from environment correctly.\n",
      "output to db unsuccessful.\n",
      "Done with Job! Sleep.\n"
     ]
    }
   ],
   "source": [
    "print('Starting up.')\n",
    "import json\n",
    "import pandas as pd\n",
    "from datetime import datetime, timedelta\n",
    "from sseclient import SSEClient\n",
    "import os\n",
    "from time import sleep\n",
    "\n",
    "while True:\n",
    "    if datetime.today().minute % 15 == 0:\n",
    "        print('Running job!')\n",
    "        url = 'https://parkingavailability.charlotte.edu/decks/stream'\n",
    "        client = SSEClient(url)\n",
    "        \n",
    "        for i in client:\n",
    "            data = i\n",
    "            break\n",
    "\n",
    "        now = datetime.now()\n",
    "        dt_string = now.strftime(\"%d/%m/%Y %H:%M:%S\")\n",
    "\n",
    "        json_data = json.loads(data.data)\n",
    "\n",
    "        output = pd.DataFrame(json_data)\n",
    "\n",
    "        output['time'] = dt_string\n",
    "\n",
    "        try:\n",
    "            db_url = os.environ['DATABASE_URL_1']\n",
    "        except:\n",
    "            print('DB-URL not retrieved from environment correctly.')\n",
    "\n",
    "        try:\n",
    "            #import the relevant sql library \n",
    "            from sqlalchemy import create_engine\n",
    "            # link to your database\n",
    "            engine = create_engine(db_url, echo = False)\n",
    "            # attach the data frame (df) to the database with a name of the \n",
    "            # table; the name can be whatever you like\n",
    "            output.to_sql('parkingdata', con = engine, if_exists='append')\n",
    "        except:\n",
    "            print(\"output to db unsuccessful.\")\n",
    "        print('Done with Job! Sleep.')\n",
    "    sleep(60)"
   ]
  },
  {
   "cell_type": "code",
   "execution_count": null,
   "id": "c1929cc9",
   "metadata": {},
   "outputs": [],
   "source": []
  }
 ],
 "metadata": {
  "kernelspec": {
   "display_name": "Python 3 (ipykernel)",
   "language": "python",
   "name": "python3"
  },
  "language_info": {
   "codemirror_mode": {
    "name": "ipython",
    "version": 3
   },
   "file_extension": ".py",
   "mimetype": "text/x-python",
   "name": "python",
   "nbconvert_exporter": "python",
   "pygments_lexer": "ipython3",
   "version": "3.9.7"
  }
 },
 "nbformat": 4,
 "nbformat_minor": 5
}
